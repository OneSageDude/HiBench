{
  "nbformat": 4,
  "nbformat_minor": 0,
  "metadata": {
    "colab": {
      "name": "SIDL-1",
      "provenance": [],
      "include_colab_link": true
    },
    "kernelspec": {
      "name": "python3",
      "display_name": "Python 3"
    }
  },
  "cells": [
    {
      "cell_type": "markdown",
      "metadata": {
        "id": "view-in-github",
        "colab_type": "text"
      },
      "source": [
        "<a href=\"https://colab.research.google.com/github/OneSageDude/HiBench/blob/master/SIDL_1.ipynb\" target=\"_parent\"><img src=\"https://colab.research.google.com/assets/colab-badge.svg\" alt=\"Open In Colab\"/></a>"
      ]
    },
    {
      "cell_type": "markdown",
      "metadata": {
        "id": "SO5vGOKxp0ah",
        "colab_type": "text"
      },
      "source": [
        "# Introduction to Python"
      ]
    },
    {
      "cell_type": "markdown",
      "metadata": {
        "id": "IaVkg-i7p9Pt",
        "colab_type": "text"
      },
      "source": [
        "## Basics\n",
        "\n"
      ]
    },
    {
      "cell_type": "code",
      "metadata": {
        "id": "Ls6VQ5vbqB6Y",
        "colab_type": "code",
        "outputId": "3141c845-6794-4e65-9e80-2027969aa3ad",
        "colab": {
          "base_uri": "https://localhost:8080/",
          "height": 306
        }
      },
      "source": [
        "# Variable Assignment (No need to specify type)\n",
        "a = 4\n",
        "b = 5\n",
        "\n",
        "# Basic operations\n",
        "print(\"Addition\")\n",
        "print(a+b)\n",
        "\n",
        "print(\"\\nMultiplication\")\n",
        "print(a*b)\n",
        "\n",
        "print(\"\\nDivision\")\n",
        "print(a/b)\n",
        "\n",
        "print(\"\\nInteger Division\")\n",
        "print(a//b)\n",
        "\n",
        "print(\"\\nExpoentiation\")\n",
        "print(a**b)\n",
        "\n",
        "print(\"\\nModulus Operator\")\n",
        "print(b % a)"
      ],
      "execution_count": 0,
      "outputs": [
        {
          "output_type": "stream",
          "text": [
            "Addition\n",
            "9\n",
            "\n",
            "Multiplication\n",
            "20\n",
            "\n",
            "Division\n",
            "0.8\n",
            "\n",
            "Integer Division\n",
            "0\n",
            "\n",
            "Expoentiation\n",
            "1024\n",
            "\n",
            "Modulus Operator\n",
            "1\n"
          ],
          "name": "stdout"
        }
      ]
    },
    {
      "cell_type": "code",
      "metadata": {
        "id": "yF1gcJvgwL9Q",
        "colab_type": "code",
        "outputId": "17063d35-2115-4534-aded-0d82dbeb9b21",
        "colab": {
          "base_uri": "https://localhost:8080/",
          "height": 153
        }
      },
      "source": [
        "# Lists and Tuples\n",
        "\n",
        "# Lists are used to store arrays of data. In Python, lists are mutable\n",
        "lst_a = [2, 4, 6, 8, 10, 12]\n",
        "\n",
        "# Tuple also store arrays of data, but they are immutable\n",
        "tup_a = (1,2,3,4,5,6,7)\n",
        "\n",
        "print(lst_a)\n",
        "print(tup_a)\n",
        "\n",
        "# This will work\n",
        "lst_a[2] = 4\n",
        "\n",
        "# The following would not work\n",
        "#tup_a[2] = 4\n",
        "\n",
        "# Indexing and slicing is easy with lists and tuples\n",
        "print()\n",
        "print(lst_a[2])\n",
        "print(tup_a[2])\n",
        "\n",
        "# Slicing\n",
        "print()\n",
        "print(lst_a[2:5])\n",
        "print(tup_a[2:4])"
      ],
      "execution_count": 0,
      "outputs": [
        {
          "output_type": "stream",
          "text": [
            "[2, 4, 6, 8, 10, 12]\n",
            "(1, 2, 3, 4, 5, 6, 7)\n",
            "\n",
            "4\n",
            "3\n",
            "\n",
            "[4, 8, 10]\n",
            "(3, 4)\n"
          ],
          "name": "stdout"
        }
      ]
    },
    {
      "cell_type": "code",
      "metadata": {
        "id": "8Pto4UodrTBM",
        "colab_type": "code",
        "outputId": "747af464-9048-40b9-a11c-bb053044728f",
        "colab": {
          "base_uri": "https://localhost:8080/",
          "height": 228
        }
      },
      "source": [
        "# Loops\n",
        "print(\"For Loop\")\n",
        "for i in range(5):\n",
        "  print(2*i)\n",
        "\n",
        "# While loops can be useful, especially if we wish to run code until some\n",
        "# condition is met.\n",
        "print(\"While Loop\")\n",
        "cnt = 0\n",
        "while cnt < 5:\n",
        "  print(cnt)\n",
        "  cnt += 1"
      ],
      "execution_count": 0,
      "outputs": [
        {
          "output_type": "stream",
          "text": [
            "For Loop\n",
            "0\n",
            "2\n",
            "4\n",
            "6\n",
            "8\n",
            "While Loop\n",
            "0\n",
            "1\n",
            "2\n",
            "3\n",
            "4\n"
          ],
          "name": "stdout"
        }
      ]
    },
    {
      "cell_type": "code",
      "metadata": {
        "id": "GB23LWrJqDTi",
        "colab_type": "code",
        "outputId": "6a6d7efb-95ef-4038-98ea-f8437b2da95e",
        "colab": {
          "base_uri": "https://localhost:8080/",
          "height": 34
        }
      },
      "source": [
        "# Appending to Lists\n",
        "lst = list()\n",
        "\n",
        "for i in range(5):\n",
        "  lst.append(i)\n",
        "\n",
        "print(lst)"
      ],
      "execution_count": 0,
      "outputs": [
        {
          "output_type": "stream",
          "text": [
            "[0, 1, 2, 3, 4]\n"
          ],
          "name": "stdout"
        }
      ]
    },
    {
      "cell_type": "code",
      "metadata": {
        "id": "0mJztOOSrel2",
        "colab_type": "code",
        "outputId": "018dea92-b006-44df-806d-0bc01dd94743",
        "colab": {
          "base_uri": "https://localhost:8080/",
          "height": 34
        }
      },
      "source": [
        "# List Comprehension\n",
        "lst = [4*i for i in range(5)]\n",
        "print(lst)"
      ],
      "execution_count": 0,
      "outputs": [
        {
          "output_type": "stream",
          "text": [
            "[0, 4, 8, 12, 16]\n"
          ],
          "name": "stdout"
        }
      ]
    },
    {
      "cell_type": "code",
      "metadata": {
        "id": "T7vMZN1bvTHm",
        "colab_type": "code",
        "colab": {}
      },
      "source": [
        "gen = (4*i for i in range(5))"
      ],
      "execution_count": 0,
      "outputs": []
    },
    {
      "cell_type": "code",
      "metadata": {
        "id": "ndLgIYizvW8n",
        "colab_type": "code",
        "outputId": "0e55cc61-65ee-4fc6-c468-0b18e510a0ae",
        "colab": {
          "base_uri": "https://localhost:8080/",
          "height": 35
        }
      },
      "source": [
        "next(gen)"
      ],
      "execution_count": 0,
      "outputs": [
        {
          "output_type": "execute_result",
          "data": {
            "text/plain": [
              "4"
            ]
          },
          "metadata": {
            "tags": []
          },
          "execution_count": 6
        }
      ]
    },
    {
      "cell_type": "markdown",
      "metadata": {
        "id": "GjB-vUwIq6Ty",
        "colab_type": "text"
      },
      "source": [
        "## Functions"
      ]
    },
    {
      "cell_type": "code",
      "metadata": {
        "id": "heeMxYyyq8NK",
        "colab_type": "code",
        "outputId": "ade6c469-85f4-40bb-f3ce-9296c2612dfb",
        "colab": {
          "base_uri": "https://localhost:8080/",
          "height": 35
        }
      },
      "source": [
        "# Positional Arguments\n",
        "def add(a, b):\n",
        "  return a + b\n",
        "\n",
        "print(add(3,4))"
      ],
      "execution_count": 0,
      "outputs": [
        {
          "output_type": "stream",
          "text": [
            "7\n"
          ],
          "name": "stdout"
        }
      ]
    },
    {
      "cell_type": "code",
      "metadata": {
        "id": "fbfRJQenrAdr",
        "colab_type": "code",
        "outputId": "d75613fa-8f16-48b6-cb82-73f8a56a35f6",
        "colab": {
          "base_uri": "https://localhost:8080/",
          "height": 119
        }
      },
      "source": [
        "# Keyword Arguments\n",
        "def cumsum(b=10):\n",
        "  return sum([i for i in range(b)])\n",
        "\n",
        "print(cumsum())\n",
        "\n",
        "print(cumsum(5))\n",
        "\n",
        "print(cumsum(b=20))\n",
        "\n",
        "def hello(n, name=\"Patrick\"):\n",
        "  for i in range(n):\n",
        "    print(\"Hello \" + name)\n",
        "\n",
        "hello(3, name=\"Sid\")"
      ],
      "execution_count": 0,
      "outputs": [
        {
          "output_type": "stream",
          "text": [
            "45\n",
            "10\n",
            "190\n",
            "Hello Sid\n",
            "Hello Sid\n",
            "Hello Sid\n"
          ],
          "name": "stdout"
        }
      ]
    },
    {
      "cell_type": "markdown",
      "metadata": {
        "id": "BiB2T986r6ES",
        "colab_type": "text"
      },
      "source": [
        "## Classes"
      ]
    },
    {
      "cell_type": "code",
      "metadata": {
        "id": "t5LKzXhyr79n",
        "colab_type": "code",
        "colab": {}
      },
      "source": [
        "class SimpleClass(object):\n",
        "  # Magic methods surround the function name with underscores.\n",
        "  # Here, we will define the constructor (initialization) for SimpleClass using\n",
        "  # the magic method __init__\n",
        "  def __init__(self, param_a, param_b, opt_a=True, opt_b=2):\n",
        "    self.param_a = param_a\n",
        "    self.param_b = param_b\n",
        "    self.opt_a = opt_a\n",
        "    self.opt_b = opt_b\n",
        "\n",
        "  # Define a summarize method to quickly summarize the class\n",
        "  def summarize(self):\n",
        "    print(f\"Param A: {self.param_a}\")\n",
        "    print(f\"Param B: {self.param_b}\")\n",
        "    print(f\"Opt A: {self.opt_a}\")\n",
        "    print(f\"Opt B: {self.opt_b}\")\n",
        "\n",
        "  # A static method is defined for the class itself. There is only one version\n",
        "  # of this method. Therefore, all instances of SimpleClass use the _same_\n",
        "  # static method. This is why we do not need to `self` as a parameter.\n",
        "  @staticmethod\n",
        "  def static_method_example():\n",
        "    print(\"This is a static method defined for SimpleClass.\")\n",
        "    print(\"It belongs to the class, not instances of the class.\")"
      ],
      "execution_count": 0,
      "outputs": []
    },
    {
      "cell_type": "code",
      "metadata": {
        "id": "73heLirisk3B",
        "colab_type": "code",
        "colab": {}
      },
      "source": [
        "# Instantiating by only specifying required arguments (using defaults for the\n",
        "# other arguments)\n",
        "simple_class_instance_a = SimpleClass(0, 1)\n",
        "\n",
        "# We can specify values for the keyword arguments. Even though the below will\n",
        "# work, it is best practice to use the keywords when providing keyword arguments\n",
        "simple_class_instance_b = SimpleClass(0, 1, False, 3)\n",
        "\n",
        "# The correct way would be to specify the keywords\n",
        "simple_class_instance_c = SimpleClass(0, 1, opt_a=False, opt_b=3)\n",
        "\n",
        "# Once keywords are specified, the order doesn't matter, so long as the keyword\n",
        "# arguments go _after_ the positional arguments\n",
        "simple_class_instance_d = SimpleClass(0, 1, opt_b=3, opt_a=False)"
      ],
      "execution_count": 0,
      "outputs": []
    },
    {
      "cell_type": "code",
      "metadata": {
        "id": "UUEHN_tVtZil",
        "colab_type": "code",
        "outputId": "e5e152d5-d77f-4844-d24e-6b0b1198c66d",
        "colab": {
          "base_uri": "https://localhost:8080/",
          "height": 85
        }
      },
      "source": [
        "simple_class_instance_a.summarize()"
      ],
      "execution_count": 0,
      "outputs": [
        {
          "output_type": "stream",
          "text": [
            "Param A: 0\n",
            "Param B: 1\n",
            "Opt A: True\n",
            "Opt B: 2\n"
          ],
          "name": "stdout"
        }
      ]
    },
    {
      "cell_type": "code",
      "metadata": {
        "id": "P5XUPiq1tb9K",
        "colab_type": "code",
        "outputId": "2d19d3b9-8ad2-4478-96a2-ff6d91c04c54",
        "colab": {
          "base_uri": "https://localhost:8080/",
          "height": 85
        }
      },
      "source": [
        "simple_class_instance_b.summarize()"
      ],
      "execution_count": 0,
      "outputs": [
        {
          "output_type": "stream",
          "text": [
            "Param A: 0\n",
            "Param B: 1\n",
            "Opt A: False\n",
            "Opt B: 3\n"
          ],
          "name": "stdout"
        }
      ]
    },
    {
      "cell_type": "code",
      "metadata": {
        "id": "YH4zjkb4tg2K",
        "colab_type": "code",
        "outputId": "f08ce89c-19e3-4944-ce39-0ad58579c29b",
        "colab": {
          "base_uri": "https://localhost:8080/",
          "height": 85
        }
      },
      "source": [
        "simple_class_instance_c.summarize()"
      ],
      "execution_count": 0,
      "outputs": [
        {
          "output_type": "stream",
          "text": [
            "Param A: 0\n",
            "Param B: 1\n",
            "Opt A: False\n",
            "Opt B: 3\n"
          ],
          "name": "stdout"
        }
      ]
    },
    {
      "cell_type": "code",
      "metadata": {
        "id": "C0JIZK7QtiHB",
        "colab_type": "code",
        "outputId": "e96f3e05-fd08-484e-f8b9-97ac07cfe4b3",
        "colab": {
          "base_uri": "https://localhost:8080/",
          "height": 85
        }
      },
      "source": [
        "simple_class_instance_d.summarize()"
      ],
      "execution_count": 0,
      "outputs": [
        {
          "output_type": "stream",
          "text": [
            "Param A: 0\n",
            "Param B: 1\n",
            "Opt A: False\n",
            "Opt B: 3\n"
          ],
          "name": "stdout"
        }
      ]
    },
    {
      "cell_type": "code",
      "metadata": {
        "id": "hvJ_ISu6tjBw",
        "colab_type": "code",
        "outputId": "ade3bd06-8066-4855-fac9-0120f86674fd",
        "colab": {
          "base_uri": "https://localhost:8080/",
          "height": 51
        }
      },
      "source": [
        "# We can use the static method from the instance\n",
        "simple_class_instance_a.static_method_example()"
      ],
      "execution_count": 0,
      "outputs": [
        {
          "output_type": "stream",
          "text": [
            "This is a static method defined for SimpleClass.\n",
            "It belongs to the class, not instances of the class.\n"
          ],
          "name": "stdout"
        }
      ]
    },
    {
      "cell_type": "code",
      "metadata": {
        "id": "JuEFX_xNuQNU",
        "colab_type": "code",
        "outputId": "4f8443dc-de95-488b-d60e-b7dda17079d9",
        "colab": {
          "base_uri": "https://localhost:8080/",
          "height": 51
        }
      },
      "source": [
        "# Or we can use it from the class\n",
        "SimpleClass.static_method_example()"
      ],
      "execution_count": 0,
      "outputs": [
        {
          "output_type": "stream",
          "text": [
            "This is a static method defined for SimpleClass.\n",
            "It belongs to the class, not instances of the class.\n"
          ],
          "name": "stdout"
        }
      ]
    },
    {
      "cell_type": "code",
      "metadata": {
        "id": "7G4U5THsuRoz",
        "colab_type": "code",
        "colab": {}
      },
      "source": [
        ""
      ],
      "execution_count": 0,
      "outputs": []
    },
    {
      "cell_type": "markdown",
      "metadata": {
        "id": "ROzxSTqPudrC",
        "colab_type": "text"
      },
      "source": [
        "# Numpy"
      ]
    },
    {
      "cell_type": "markdown",
      "metadata": {
        "id": "l_JBa-OKugtF",
        "colab_type": "text"
      },
      "source": [
        "One of the most important packages for any numerical programming in Python is NumPy. Here, we will give a brief tutorial on NumPy. It is important to learn far more about NumPy if you plan to use Python for any scientific computing."
      ]
    },
    {
      "cell_type": "code",
      "metadata": {
        "id": "kEAGoaHDuenJ",
        "colab_type": "code",
        "outputId": "bb508b8a-125e-4327-c9ac-69051a5dd80d",
        "colab": {
          "base_uri": "https://localhost:8080/",
          "height": 68
        }
      },
      "source": [
        "# Importing packages is easy. The following will import the numpy \"module\"\n",
        "import numpy\n",
        "\n",
        "numpy.zeros((3,3))"
      ],
      "execution_count": 0,
      "outputs": [
        {
          "output_type": "execute_result",
          "data": {
            "text/plain": [
              "array([[0., 0., 0.],\n",
              "       [0., 0., 0.],\n",
              "       [0., 0., 0.]])"
            ]
          },
          "metadata": {
            "tags": []
          },
          "execution_count": 2
        }
      ]
    },
    {
      "cell_type": "code",
      "metadata": {
        "id": "sqcBnoOVu10Z",
        "colab_type": "code",
        "outputId": "3038004f-6eb4-4565-9b0a-488ff7a16cca",
        "colab": {
          "base_uri": "https://localhost:8080/",
          "height": 70
        }
      },
      "source": [
        "# It is often useful to specify an alias for a module to make it easier to call\n",
        "import numpy as np\n",
        "\n",
        "np.zeros((3,3))"
      ],
      "execution_count": 0,
      "outputs": [
        {
          "output_type": "execute_result",
          "data": {
            "text/plain": [
              "array([[0., 0., 0.],\n",
              "       [0., 0., 0.],\n",
              "       [0., 0., 0.]])"
            ]
          },
          "metadata": {
            "tags": []
          },
          "execution_count": 17
        }
      ]
    },
    {
      "cell_type": "markdown",
      "metadata": {
        "id": "u7ejdqQmvAVr",
        "colab_type": "text"
      },
      "source": [
        "We will use NumPy for its linear algebra capabilities. In particular, we will use NumPy arrays throughout the course. They are the fundamental datatype used for all machine learning in Python."
      ]
    },
    {
      "cell_type": "code",
      "metadata": {
        "id": "DvHd1evau8zf",
        "colab_type": "code",
        "colab": {}
      },
      "source": [
        "# Specifying an array of zeros is easy, simple pass in the desired shape as a tuple:\n",
        "A = np.zeros([4,5])"
      ],
      "execution_count": 0,
      "outputs": []
    },
    {
      "cell_type": "code",
      "metadata": {
        "id": "pu1LDlx1w9H3",
        "colab_type": "code",
        "outputId": "db61c076-5e0f-4d7a-bcc0-2ddadc649d56",
        "colab": {
          "base_uri": "https://localhost:8080/",
          "height": 87
        }
      },
      "source": [
        "print(A)"
      ],
      "execution_count": 0,
      "outputs": [
        {
          "output_type": "stream",
          "text": [
            "[[0. 0. 0. 0. 0.]\n",
            " [0. 0. 0. 0. 0.]\n",
            " [0. 0. 0. 0. 0.]\n",
            " [0. 0. 0. 0. 0.]]\n"
          ],
          "name": "stdout"
        }
      ]
    },
    {
      "cell_type": "code",
      "metadata": {
        "id": "ZttMB6Kbw9l2",
        "colab_type": "code",
        "outputId": "a83694fa-c053-44ee-bca2-f238149fa0f4",
        "colab": {
          "base_uri": "https://localhost:8080/",
          "height": 87
        }
      },
      "source": [
        "# We can set elements of this matrix easily:\n",
        "A[2,3] = 2\n",
        "\n",
        "print(A)"
      ],
      "execution_count": 0,
      "outputs": [
        {
          "output_type": "stream",
          "text": [
            "[[0. 0. 0. 0. 0.]\n",
            " [0. 0. 0. 0. 0.]\n",
            " [0. 0. 0. 2. 0.]\n",
            " [0. 0. 0. 0. 0.]]\n"
          ],
          "name": "stdout"
        }
      ]
    },
    {
      "cell_type": "code",
      "metadata": {
        "id": "qQ0docyExCVd",
        "colab_type": "code",
        "outputId": "1874cda4-c088-4d15-c4dc-c96ad754f4f6",
        "colab": {
          "base_uri": "https://localhost:8080/",
          "height": 87
        }
      },
      "source": [
        "# We can also set slices using the colon (i.e. all elements along this axis)\n",
        "A[3,:] = 3\n",
        "print(A)"
      ],
      "execution_count": 0,
      "outputs": [
        {
          "output_type": "stream",
          "text": [
            "[[0. 0. 0. 0. 0.]\n",
            " [0. 0. 0. 0. 0.]\n",
            " [0. 0. 0. 2. 0.]\n",
            " [3. 3. 3. 3. 3.]]\n"
          ],
          "name": "stdout"
        }
      ]
    },
    {
      "cell_type": "code",
      "metadata": {
        "id": "mapbgpK1xK_E",
        "colab_type": "code",
        "outputId": "ced78035-5021-4e42-d87c-4b4793c6a5e3",
        "colab": {
          "base_uri": "https://localhost:8080/",
          "height": 52
        }
      },
      "source": [
        "# The colon allows us to specify an entire row or column:\n",
        "# Row\n",
        "print(A[3,:].shape)\n",
        "\n",
        "# Column\n",
        "print(A[:,2].shape)"
      ],
      "execution_count": 0,
      "outputs": [
        {
          "output_type": "stream",
          "text": [
            "(5,)\n",
            "(4,)\n"
          ],
          "name": "stdout"
        }
      ]
    },
    {
      "cell_type": "code",
      "metadata": {
        "id": "zSyWU_L3xYfy",
        "colab_type": "code",
        "outputId": "e7e0267d-8ba1-4cee-c233-6f9998daf2f6",
        "colab": {
          "base_uri": "https://localhost:8080/",
          "height": 85
        }
      },
      "source": [
        "# Matrix Multiplication:\n",
        "# Pointwise\n",
        "print(A*A)"
      ],
      "execution_count": 0,
      "outputs": [
        {
          "output_type": "stream",
          "text": [
            "[[0. 0. 0. 0. 0.]\n",
            " [0. 0. 0. 0. 0.]\n",
            " [0. 0. 0. 4. 0.]\n",
            " [9. 9. 9. 9. 9.]]\n"
          ],
          "name": "stdout"
        }
      ]
    },
    {
      "cell_type": "code",
      "metadata": {
        "id": "IKb_4PS4xeCn",
        "colab_type": "code",
        "outputId": "67f99464-bfc8-492b-aecc-424631dbf3bd",
        "colab": {
          "base_uri": "https://localhost:8080/",
          "height": 85
        }
      },
      "source": [
        "# Standard Matrix Multiplication uses np.dot\n",
        "np.dot(A, A.T)"
      ],
      "execution_count": 0,
      "outputs": [
        {
          "output_type": "execute_result",
          "data": {
            "text/plain": [
              "array([[ 0.,  0.,  0.,  0.],\n",
              "       [ 0.,  0.,  0.,  0.],\n",
              "       [ 0.,  0.,  4.,  6.],\n",
              "       [ 0.,  0.,  6., 45.]])"
            ]
          },
          "metadata": {
            "tags": []
          },
          "execution_count": 24
        }
      ]
    },
    {
      "cell_type": "code",
      "metadata": {
        "id": "HE1xLXkBxjbX",
        "colab_type": "code",
        "outputId": "b5b5cc8b-be58-416e-f276-849cc48d8baa",
        "colab": {
          "base_uri": "https://localhost:8080/",
          "height": 408
        }
      },
      "source": [
        "# We can specify higher order \"tensors\" (i.e. arrays) using NumPy\n",
        "B = np.zeros((4,5,3))\n",
        "\n",
        "# Note that B now has three axes. We can specify as many axes as we like, but\n",
        "# the resulting array must be able to fit in memory!\n",
        "print(B)"
      ],
      "execution_count": 0,
      "outputs": [
        {
          "output_type": "stream",
          "text": [
            "[[[0. 0. 0.]\n",
            "  [0. 0. 0.]\n",
            "  [0. 0. 0.]\n",
            "  [0. 0. 0.]\n",
            "  [0. 0. 0.]]\n",
            "\n",
            " [[0. 0. 0.]\n",
            "  [0. 0. 0.]\n",
            "  [0. 0. 0.]\n",
            "  [0. 0. 0.]\n",
            "  [0. 0. 0.]]\n",
            "\n",
            " [[0. 0. 0.]\n",
            "  [0. 0. 0.]\n",
            "  [0. 0. 0.]\n",
            "  [0. 0. 0.]\n",
            "  [0. 0. 0.]]\n",
            "\n",
            " [[0. 0. 0.]\n",
            "  [0. 0. 0.]\n",
            "  [0. 0. 0.]\n",
            "  [0. 0. 0.]\n",
            "  [0. 0. 0.]]]\n"
          ],
          "name": "stdout"
        }
      ]
    },
    {
      "cell_type": "code",
      "metadata": {
        "id": "160Ucpiax4di",
        "colab_type": "code",
        "colab": {}
      },
      "source": [
        "# NumPy is really useful for generating random data via the np.random library:\n",
        "\n",
        "pix = np.random.random(size=(3,3,3))"
      ],
      "execution_count": 0,
      "outputs": []
    },
    {
      "cell_type": "code",
      "metadata": {
        "id": "JWEXkfqB0kmy",
        "colab_type": "code",
        "colab": {}
      },
      "source": [
        "from matplotlib import pyplot"
      ],
      "execution_count": 0,
      "outputs": []
    },
    {
      "cell_type": "code",
      "metadata": {
        "id": "4KfrlQHk0mbe",
        "colab_type": "code",
        "outputId": "5e286112-299e-451f-80f7-ae33c30b81a9",
        "colab": {
          "base_uri": "https://localhost:8080/",
          "height": 287
        }
      },
      "source": [
        "pyplot.imshow(pix)"
      ],
      "execution_count": 0,
      "outputs": [
        {
          "output_type": "execute_result",
          "data": {
            "text/plain": [
              "<matplotlib.image.AxesImage at 0x7f46a8690908>"
            ]
          },
          "metadata": {
            "tags": []
          },
          "execution_count": 26
        },
        {
          "output_type": "display_data",
          "data": {
            "image/png": "[encoded data removed]",
            "text/plain": [
              "<Figure size 432x288 with 1 Axes>"
            ]
          },
          "metadata": {
            "tags": []
          }
        }
      ]
    },
    {
      "cell_type": "code",
      "metadata": {
        "id": "uDNZwiAqVYHO",
        "colab_type": "code",
        "outputId": "8dcb14ab-fe71-411e-affc-c8b4f50fd10e",
        "colab": {
          "base_uri": "https://localhost:8080/",
          "height": 204
        }
      },
      "source": [
        "np.random.normal(0, 1, size=(3,3,3))"
      ],
      "execution_count": 0,
      "outputs": [
        {
          "output_type": "execute_result",
          "data": {
            "text/plain": [
              "array([[[-0.34885814, -0.41684309, -0.44473719],\n",
              "        [ 1.36773776,  0.9586071 , -0.60073382],\n",
              "        [ 0.05170743, -0.94492504,  1.96321953]],\n",
              "\n",
              "       [[ 0.67331607, -0.5796609 , -1.95783184],\n",
              "        [-1.23558989, -0.67442598,  0.9734337 ],\n",
              "        [ 0.19324939,  0.42108126,  0.46142216]],\n",
              "\n",
              "       [[ 0.26417401,  1.00997794,  1.57308352],\n",
              "        [-0.22888934,  0.18650966,  0.75431184],\n",
              "        [-1.00001282, -0.59337112, -0.45359263]]])"
            ]
          },
          "metadata": {
            "tags": []
          },
          "execution_count": 27
        }
      ]
    },
    {
      "cell_type": "code",
      "metadata": {
        "id": "HgRtBfPuVbta",
        "colab_type": "code",
        "outputId": "23e2aa43-d5c8-4080-8827-037346aee5ed",
        "colab": {
          "base_uri": "https://localhost:8080/",
          "height": 211
        }
      },
      "source": [
        "np.random.uniform(0,10,size=(3,3,3))"
      ],
      "execution_count": 0,
      "outputs": [
        {
          "output_type": "execute_result",
          "data": {
            "text/plain": [
              "array([[[9.60480377, 3.27000833, 6.09768426],\n",
              "        [6.18287031, 9.88735207, 0.9685848 ],\n",
              "        [7.46384178, 6.22519245, 4.48675487]],\n",
              "\n",
              "       [[9.75520089, 4.64885111, 7.99219377],\n",
              "        [2.75885791, 2.62576054, 7.65851718],\n",
              "        [2.27817521, 2.43830346, 8.62870359]],\n",
              "\n",
              "       [[5.00121381, 6.07371676, 5.21491537],\n",
              "        [0.03039033, 1.0103015 , 0.44351992],\n",
              "        [4.63098392, 5.4226097 , 4.93226811]]])"
            ]
          },
          "metadata": {
            "tags": []
          },
          "execution_count": 29
        }
      ]
    },
    {
      "cell_type": "markdown",
      "metadata": {
        "id": "cWShf1qPVjz7",
        "colab_type": "text"
      },
      "source": [
        "Now that we can generate some fake data, let's turn back to the linear algebra."
      ]
    },
    {
      "cell_type": "code",
      "metadata": {
        "id": "_pYAHekXVn66",
        "colab_type": "code",
        "colab": {}
      },
      "source": [
        "A = np.random.random(size=(3,4,5))"
      ],
      "execution_count": 0,
      "outputs": []
    },
    {
      "cell_type": "code",
      "metadata": {
        "id": "wUDBEro8WjhF",
        "colab_type": "code",
        "outputId": "fa4d0884-befd-4e11-fea1-1347dc723603",
        "colab": {
          "base_uri": "https://localhost:8080/",
          "height": 475
        }
      },
      "source": [
        "A"
      ],
      "execution_count": 0,
      "outputs": [
        {
          "output_type": "execute_result",
          "data": {
            "text/plain": [
              "array([[[3.95451731e-01, 5.28491061e-02, 6.23277314e-02, 4.34383844e-01,\n",
              "         4.32006482e-01],\n",
              "        [7.98175581e-01, 4.29017722e-01, 1.98597248e-02, 9.74638424e-01,\n",
              "         6.45379974e-01],\n",
              "        [6.19892582e-01, 5.39760680e-03, 7.36471669e-01, 2.17059361e-01,\n",
              "         9.52305055e-01],\n",
              "        [5.04708071e-04, 1.19460847e-01, 4.43717924e-01, 9.82711189e-01,\n",
              "         9.78333445e-01]],\n",
              "\n",
              "       [[3.56448355e-01, 8.23079884e-01, 3.31678754e-01, 8.28701370e-01,\n",
              "         4.59684586e-01],\n",
              "        [6.79055265e-01, 3.89394536e-01, 4.56893895e-01, 7.31277380e-01,\n",
              "         4.72963397e-01],\n",
              "        [4.69563678e-01, 7.65840674e-01, 6.84880243e-01, 9.79747147e-01,\n",
              "         7.52050405e-01],\n",
              "        [8.71524504e-01, 5.89284102e-01, 4.64393207e-01, 4.01119036e-01,\n",
              "         3.74892976e-01]],\n",
              "\n",
              "       [[7.21845389e-01, 2.58564959e-01, 9.33046063e-01, 8.28668679e-01,\n",
              "         2.70447765e-01],\n",
              "        [8.07082921e-01, 3.10709246e-01, 7.67705676e-01, 8.43198343e-01,\n",
              "         8.59921707e-02],\n",
              "        [9.88473250e-01, 4.76828283e-01, 7.57622351e-01, 6.31121668e-01,\n",
              "         6.26809089e-01],\n",
              "        [1.70260126e-01, 7.88529771e-01, 3.85151667e-01, 9.55802848e-01,\n",
              "         6.25241474e-01]]])"
            ]
          },
          "metadata": {
            "tags": []
          },
          "execution_count": 31
        }
      ]
    },
    {
      "cell_type": "code",
      "metadata": {
        "id": "OumTjFRNWR23",
        "colab_type": "code",
        "outputId": "d8bd8d58-1431-46da-8155-8051a257cd33",
        "colab": {
          "base_uri": "https://localhost:8080/",
          "height": 35
        }
      },
      "source": [
        "# Take the sum of all elements\n",
        "np.sum(A)"
      ],
      "execution_count": 0,
      "outputs": [
        {
          "output_type": "execute_result",
          "data": {
            "text/plain": [
              "33.41551984202915"
            ]
          },
          "metadata": {
            "tags": []
          },
          "execution_count": 32
        }
      ]
    },
    {
      "cell_type": "code",
      "metadata": {
        "id": "gooZVDhj1cEG",
        "colab_type": "code",
        "outputId": "705fb4fc-e03a-43c7-8d4a-eefc48674741",
        "colab": {
          "base_uri": "https://localhost:8080/",
          "height": 35
        }
      },
      "source": [
        "A.shape"
      ],
      "execution_count": 0,
      "outputs": [
        {
          "output_type": "execute_result",
          "data": {
            "text/plain": [
              "(3, 4, 5)"
            ]
          },
          "metadata": {
            "tags": []
          },
          "execution_count": 33
        }
      ]
    },
    {
      "cell_type": "code",
      "metadata": {
        "id": "QSKz0f2KWbi6",
        "colab_type": "code",
        "outputId": "372c4496-2a95-4d12-f4c0-0981fb69b75a",
        "colab": {
          "base_uri": "https://localhost:8080/",
          "height": 35
        }
      },
      "source": [
        "# You can specify which axis/axes to sum across\n",
        "np.sum(A, axis=0).shape"
      ],
      "execution_count": 0,
      "outputs": [
        {
          "output_type": "execute_result",
          "data": {
            "text/plain": [
              "(4, 5)"
            ]
          },
          "metadata": {
            "tags": []
          },
          "execution_count": 34
        }
      ]
    },
    {
      "cell_type": "code",
      "metadata": {
        "id": "5kkGLoG5WhfB",
        "colab_type": "code",
        "outputId": "39966135-29fd-4ccb-8470-f2792f67db05",
        "colab": {
          "base_uri": "https://localhost:8080/",
          "height": 35
        }
      },
      "source": [
        "np.sum(A, axis=1).shape"
      ],
      "execution_count": 0,
      "outputs": [
        {
          "output_type": "execute_result",
          "data": {
            "text/plain": [
              "(3, 5)"
            ]
          },
          "metadata": {
            "tags": []
          },
          "execution_count": 35
        }
      ]
    },
    {
      "cell_type": "code",
      "metadata": {
        "id": "tufwSSnQWnSg",
        "colab_type": "code",
        "outputId": "634e0189-62d4-4ebf-ad81-aa83e258dae6",
        "colab": {
          "base_uri": "https://localhost:8080/",
          "height": 35
        }
      },
      "source": [
        "np.sum(A, axis=(0,1)).shape"
      ],
      "execution_count": 0,
      "outputs": [
        {
          "output_type": "execute_result",
          "data": {
            "text/plain": [
              "(5,)"
            ]
          },
          "metadata": {
            "tags": []
          },
          "execution_count": 37
        }
      ]
    },
    {
      "cell_type": "code",
      "metadata": {
        "id": "mSwyBFi1WwkM",
        "colab_type": "code",
        "outputId": "096e7552-317c-4ceb-8a21-9fecf73d310e",
        "colab": {
          "base_uri": "https://localhost:8080/",
          "height": 68
        }
      },
      "source": [
        "# Using -1 specifies the last axis, this will be very helpful in the future\n",
        "np.sum(A, axis=-1)"
      ],
      "execution_count": 0,
      "outputs": [
        {
          "output_type": "execute_result",
          "data": {
            "text/plain": [
              "array([[1.97672242, 3.3049652 , 2.15710451, 1.88805954],\n",
              "       [3.53816697, 1.81121387, 3.01703739, 2.78261975],\n",
              "       [2.89666354, 2.50807058, 3.47350674, 1.632403  ]])"
            ]
          },
          "metadata": {
            "tags": []
          },
          "execution_count": 59
        }
      ]
    },
    {
      "cell_type": "code",
      "metadata": {
        "id": "THyxKrIKW4VN",
        "colab_type": "code",
        "outputId": "3d483163-df94-4116-e7cc-f25d81d9c909",
        "colab": {
          "base_uri": "https://localhost:8080/",
          "height": 68
        }
      },
      "source": [
        "# To check this is the same as explicitly specifying the last axis:\n",
        "np.sum(A, axis=-1) - np.sum(A, axis=2)"
      ],
      "execution_count": 0,
      "outputs": [
        {
          "output_type": "execute_result",
          "data": {
            "text/plain": [
              "array([[0., 0., 0., 0.],\n",
              "       [0., 0., 0., 0.],\n",
              "       [0., 0., 0., 0.]])"
            ]
          },
          "metadata": {
            "tags": []
          },
          "execution_count": 60
        }
      ]
    },
    {
      "cell_type": "code",
      "metadata": {
        "id": "WWEfqSEdWZED",
        "colab_type": "code",
        "colab": {}
      },
      "source": [
        "# Let's analyze a matrix\n",
        "A = np.random.random(size=(3,3))"
      ],
      "execution_count": 0,
      "outputs": []
    },
    {
      "cell_type": "code",
      "metadata": {
        "id": "gqT-DhvO2WEV",
        "colab_type": "code",
        "outputId": "9915f731-e50d-4061-bb40-1a8801347396",
        "colab": {
          "base_uri": "https://localhost:8080/",
          "height": 70
        }
      },
      "source": [
        "A"
      ],
      "execution_count": 0,
      "outputs": [
        {
          "output_type": "execute_result",
          "data": {
            "text/plain": [
              "array([[0.89358491, 0.63455805, 0.1434104 ],\n",
              "       [0.62305295, 0.99846823, 0.72063911],\n",
              "       [0.08788929, 0.00938503, 0.57232916]])"
            ]
          },
          "metadata": {
            "tags": []
          },
          "execution_count": 39
        }
      ]
    },
    {
      "cell_type": "code",
      "metadata": {
        "id": "0irvlkNr2h0G",
        "colab_type": "code",
        "colab": {}
      },
      "source": [
        "x, y = (2,3)"
      ],
      "execution_count": 0,
      "outputs": []
    },
    {
      "cell_type": "code",
      "metadata": {
        "id": "OkyZQKSy2uU4",
        "colab_type": "code",
        "outputId": "8bbc2db3-1d0d-4f50-fca7-64175d859139",
        "colab": {
          "base_uri": "https://localhost:8080/",
          "height": 35
        }
      },
      "source": [
        "x,y"
      ],
      "execution_count": 0,
      "outputs": [
        {
          "output_type": "execute_result",
          "data": {
            "text/plain": [
              "(2, 3)"
            ]
          },
          "metadata": {
            "tags": []
          },
          "execution_count": 45
        }
      ]
    },
    {
      "cell_type": "code",
      "metadata": {
        "id": "HP65GIu7Vpti",
        "colab_type": "code",
        "colab": {}
      },
      "source": [
        "values, vectors = np.linalg.eig(A)"
      ],
      "execution_count": 0,
      "outputs": []
    },
    {
      "cell_type": "code",
      "metadata": {
        "id": "Rj6yH2IJVrDK",
        "colab_type": "code",
        "outputId": "7152c2dc-4dc4-4b62-9b30-d6d95fe95b58",
        "colab": {
          "base_uri": "https://localhost:8080/",
          "height": 52
        }
      },
      "source": [
        "values"
      ],
      "execution_count": 0,
      "outputs": [
        {
          "output_type": "execute_result",
          "data": {
            "text/plain": [
              "array([1.61651099+0.j        , 0.42393565+0.10023909j,\n",
              "       0.42393565-0.10023909j])"
            ]
          },
          "metadata": {
            "tags": []
          },
          "execution_count": 48
        }
      ]
    },
    {
      "cell_type": "code",
      "metadata": {
        "id": "y9NTpHqTVu74",
        "colab_type": "code",
        "outputId": "92b4e059-27f9-4780-ef2f-86544b2b64b2",
        "colab": {
          "base_uri": "https://localhost:8080/",
          "height": 123
        }
      },
      "source": [
        "vectors"
      ],
      "execution_count": 0,
      "outputs": [
        {
          "output_type": "execute_result",
          "data": {
            "text/plain": [
              "array([[ 0.6653779 +0.j        ,  0.77006352+0.j        ,\n",
              "         0.77006352-0.j        ],\n",
              "       [ 0.74386967+0.j        , -0.50523093+0.16775256j,\n",
              "        -0.50523093-0.16775256j],\n",
              "       [ 0.06269102+0.j        , -0.28632097-0.20401779j,\n",
              "        -0.28632097+0.20401779j]])"
            ]
          },
          "metadata": {
            "tags": []
          },
          "execution_count": 49
        }
      ]
    },
    {
      "cell_type": "code",
      "metadata": {
        "id": "WfDD-TxaVv5J",
        "colab_type": "code",
        "outputId": "e2cfeb44-0ade-4b99-adaa-73f3475faaff",
        "colab": {
          "base_uri": "https://localhost:8080/",
          "height": 87
        }
      },
      "source": [
        "# When matrices are symmetric (e.g. covariance matrices) you can use eigh\n",
        "np.linalg.eigh(np.dot(A, A.T))"
      ],
      "execution_count": 0,
      "outputs": [
        {
          "output_type": "execute_result",
          "data": {
            "text/plain": [
              "(array([0.08001381, 0.39361838, 2.98792004]),\n",
              " array([[-0.51168784,  0.6223534 , -0.59232745],\n",
              "        [ 0.53784473, -0.30559365, -0.78570705],\n",
              "        [-0.66999896, -0.72061694, -0.17836094]]))"
            ]
          },
          "metadata": {
            "tags": []
          },
          "execution_count": 50
        }
      ]
    },
    {
      "cell_type": "markdown",
      "metadata": {
        "id": "7sr1MvCwa0QG",
        "colab_type": "text"
      },
      "source": [
        "# Exercise: We now have almost all we need to do Principal Component Analysis (PCA)"
      ]
    },
    {
      "cell_type": "code",
      "metadata": {
        "id": "noAUzriOV1bj",
        "colab_type": "code",
        "outputId": "8612657a-d5aa-4d22-d1e2-8b288d118533",
        "colab": {
          "base_uri": "https://localhost:8080/",
          "height": 265
        }
      },
      "source": [
        "# We're going to use matplotlib for visualization, a matlab style plotting\n",
        "# library\n",
        "from matplotlib import pyplot\n",
        "from mpl_toolkits.mplot3d import Axes3D\n",
        "\n",
        "# First generate a random covariance matrix\n",
        "cov_raw = np.random.random(size=(3,3))\n",
        "cov = np.dot(cov_raw, cov_raw.T)\n",
        "\n",
        "# Next generate the data\n",
        "data = np.random.multivariate_normal(np.zeros(3), cov, size=100)\n",
        "\n",
        "fig = pyplot.figure()\n",
        "ax = fig.add_subplot(111, projection='3d')\n",
        "ax.scatter(data[:,0], data[:,1], data[:,2])"
      ],
      "execution_count": 0,
      "outputs": [
        {
          "output_type": "execute_result",
          "data": {
            "text/plain": [
              "<mpl_toolkits.mplot3d.art3d.Path3DCollection at 0x7f46a81b4d68>"
            ]
          },
          "metadata": {
            "tags": []
          },
          "execution_count": 52
        },
        {
          "output_type": "display_data",
          "data": {
            "image/png": "[encoded data removed]",
            "text/plain": [
              "<Figure size 432x288 with 1 Axes>"
            ]
          },
          "metadata": {
            "tags": []
          }
        }
      ]
    },
    {
      "cell_type": "code",
      "metadata": {
        "id": "d4Ca6azX4kck",
        "colab_type": "code",
        "outputId": "c7dff1cc-73f1-41eb-c21a-b0bf7e9fbba6",
        "colab": {
          "base_uri": "https://localhost:8080/",
          "height": 35
        }
      },
      "source": [
        "data.shape"
      ],
      "execution_count": 0,
      "outputs": [
        {
          "output_type": "execute_result",
          "data": {
            "text/plain": [
              "(100, 3)"
            ]
          },
          "metadata": {
            "tags": []
          },
          "execution_count": 53
        }
      ]
    },
    {
      "cell_type": "code",
      "metadata": {
        "id": "sDeLyZwNXbp1",
        "colab_type": "code",
        "colab": {}
      },
      "source": [
        "# We will compute the mean and the covariance matrix\n",
        "# NumPy has a built in way of computing the mean, make sure we specify the correct axis\n",
        "data_mean = np.mean(data, axis=0)\n",
        "\n",
        "# NumPy also has a covariance function, but it expects the rows to represent variables and\n",
        "# the columns to be oberservations. We have it the reverse. Therefore, we will\n",
        "# simply take the transpose\n",
        "data_cov = np.cov(data.T)"
      ],
      "execution_count": 0,
      "outputs": []
    },
    {
      "cell_type": "code",
      "metadata": {
        "id": "2HX5d__sbntI",
        "colab_type": "code",
        "outputId": "713af64f-a7bb-45d6-c2a7-ab7b4e5efd9b",
        "colab": {
          "base_uri": "https://localhost:8080/",
          "height": 35
        }
      },
      "source": [
        "data_mean"
      ],
      "execution_count": 0,
      "outputs": [
        {
          "output_type": "execute_result",
          "data": {
            "text/plain": [
              "array([-0.16942267, -0.11081246, -0.23289365])"
            ]
          },
          "metadata": {
            "tags": []
          },
          "execution_count": 56
        }
      ]
    },
    {
      "cell_type": "code",
      "metadata": {
        "id": "ZnbPi_8rYI_-",
        "colab_type": "code",
        "outputId": "7fa12c4a-3608-4269-8f99-34b51e737321",
        "colab": {
          "base_uri": "https://localhost:8080/",
          "height": 70
        }
      },
      "source": [
        "data_cov"
      ],
      "execution_count": 0,
      "outputs": [
        {
          "output_type": "execute_result",
          "data": {
            "text/plain": [
              "array([[0.95757581, 0.41740805, 1.04901527],\n",
              "       [0.41740805, 0.34617128, 0.66208452],\n",
              "       [1.04901527, 0.66208452, 1.45133965]])"
            ]
          },
          "metadata": {
            "tags": []
          },
          "execution_count": 57
        }
      ]
    },
    {
      "cell_type": "code",
      "metadata": {
        "id": "WkkT1iahYKCX",
        "colab_type": "code",
        "colab": {}
      },
      "source": [
        "# PCA has us project the data onto the principal components (i.e. eigenvectors\n",
        "# with the largest eigenvalues)\n",
        "\n",
        "# Therefore, we must take the eigendecomposition of the covariance matrix\n",
        "evals, evecs = np.linalg.eigh(data_cov)"
      ],
      "execution_count": 0,
      "outputs": []
    },
    {
      "cell_type": "code",
      "metadata": {
        "id": "pbanrqLuaV3A",
        "colab_type": "code",
        "outputId": "fd7ebc71-9a8c-4eed-a2a2-d51c4dc49c01",
        "colab": {
          "base_uri": "https://localhost:8080/",
          "height": 35
        }
      },
      "source": [
        "evals"
      ],
      "execution_count": 0,
      "outputs": [
        {
          "output_type": "execute_result",
          "data": {
            "text/plain": [
              "array([0.01570648, 0.18291702, 2.55646323])"
            ]
          },
          "metadata": {
            "tags": []
          },
          "execution_count": 59
        }
      ]
    },
    {
      "cell_type": "code",
      "metadata": {
        "id": "cfFqd0DNZAI7",
        "colab_type": "code",
        "outputId": "997f5b44-f901-46ec-f058-3018eef12ae6",
        "colab": {
          "base_uri": "https://localhost:8080/",
          "height": 105
        }
      },
      "source": [
        "# The eigenvalues/vectors are returned in ascending order. Thus, to take the\n",
        "# largest, we could take the last two. We care about the magnitude of the\n",
        "# eigenvalues though, so we will first compute the order of the eigenvalues by\n",
        "# magnitude and then take the largest eigenvalues (by magnitude)\n",
        "I = np.argsort(np.abs(evals))\n",
        "print(I)\n",
        "print(evals[I])\n",
        "print()\n",
        "\n",
        "# Now take the last two elements of our ordered eigenvalues\n",
        "idx = I[-2:]\n",
        "evecs[idx]"
      ],
      "execution_count": 0,
      "outputs": [
        {
          "output_type": "stream",
          "text": [
            "[0 1 2]\n",
            "[0.01570648 0.18291702 2.55646323]\n",
            "\n"
          ],
          "name": "stdout"
        },
        {
          "output_type": "execute_result",
          "data": {
            "text/plain": [
              "array([[-0.769782  ,  0.54489469, -0.33245368],\n",
              "       [ 0.56791956,  0.34690912, -0.74640568]])"
            ]
          },
          "metadata": {
            "tags": []
          },
          "execution_count": 61
        }
      ]
    },
    {
      "cell_type": "code",
      "metadata": {
        "id": "BV46DhI3ZF9c",
        "colab_type": "code",
        "colab": {}
      },
      "source": [
        "# We can now perform the actual projection.\n",
        "projected_data = np.dot(data, evecs[I[-2:]].T)"
      ],
      "execution_count": 0,
      "outputs": []
    },
    {
      "cell_type": "code",
      "metadata": {
        "id": "n0SjPFsBZQRC",
        "colab_type": "code",
        "outputId": "1270a90d-a29e-4aaa-d326-29f7158a43ea",
        "colab": {
          "base_uri": "https://localhost:8080/",
          "height": 283
        }
      },
      "source": [
        "pyplot.scatter(projected_data[:,0], projected_data[:,1])"
      ],
      "execution_count": 0,
      "outputs": [
        {
          "output_type": "execute_result",
          "data": {
            "text/plain": [
              "<matplotlib.collections.PathCollection at 0x7f46a57ce8d0>"
            ]
          },
          "metadata": {
            "tags": []
          },
          "execution_count": 63
        },
        {
          "output_type": "display_data",
          "data": {
            "image/png": "[encoded data removed]",
            "text/plain": [
              "<Figure size 432x288 with 1 Axes>"
            ]
          },
          "metadata": {
            "tags": []
          }
        }
      ]
    },
    {
      "cell_type": "code",
      "metadata": {
        "id": "ji1-_qNdamHc",
        "colab_type": "code",
        "colab": {}
      },
      "source": [
        ""
      ],
      "execution_count": 0,
      "outputs": []
    }
  ]
}